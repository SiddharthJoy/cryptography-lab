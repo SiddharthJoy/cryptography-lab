{
 "cells": [
  {
   "cell_type": "markdown",
   "metadata": {},
   "source": [
    "# DSS"
   ]
  },
  {
   "cell_type": "code",
   "execution_count": 1,
   "metadata": {},
   "outputs": [],
   "source": [
    "def isPrime(n):\n",
    "    if n>1:\n",
    "        for i in range(2,int(n/2)+1):\n",
    "            if(n%i)==0:\n",
    "                return False\n",
    "                break\n",
    "            else:\n",
    "                return True\n",
    "    else:\n",
    "        False"
   ]
  },
  {
   "cell_type": "code",
   "execution_count": 2,
   "metadata": {},
   "outputs": [],
   "source": [
    "# procedure for dinding primitive root of 'n'\n",
    "# Python3 program to find primitive root\n",
    "# of a given number n\n",
    "from math import sqrt\n",
    " \n",
    "\n",
    "def findPrimefactors(s, n) :\n",
    " \n",
    "    # Print the number of 2s that divide n\n",
    "    while (n % 2 == 0) :\n",
    "        s.add(2)\n",
    "        n = n // 2\n",
    " \n",
    "    # n must be odd at this po. So we can \n",
    "    # skip one element (Note i = i +2)\n",
    "    for i in range(3, int(sqrt(n)), 2):\n",
    "         \n",
    "        # While i divides n, print i and divide n\n",
    "        while (n % i == 0) :\n",
    " \n",
    "            s.add(i)\n",
    "            n = n // i\n",
    "         \n",
    "    # This condition is to handle the case\n",
    "    # when n is a prime number greater than 2\n",
    "    if (n > 2) :\n",
    "        s.add(n)\n",
    " \n",
    "\n",
    "def findPrimitive(n) :\n",
    "    s = set()\n",
    " \n",
    "    if (isPrime(n) == False):\n",
    "        return -1\n",
    "\n",
    "    phi = n - 1\n",
    " \n",
    "    findPrimefactors(s, phi)\n",
    " \n",
    "    for r in range(2, phi + 1):\n",
    " \n",
    "        # Iterate through all prime factors of phi.\n",
    "        # and check if we found a power with value 1\n",
    "        flag = False\n",
    "        for it in s:\n",
    " \n",
    "            # Check if r^((phi)/primefactors)\n",
    "            # mod n is 1 or not\n",
    "            if (pow(r, phi // it, n) == 1):\n",
    " \n",
    "                flag = True\n",
    "                break\n",
    "             \n",
    "        # If there was no power with value 1.\n",
    "        if (flag == False):\n",
    "            return r\n",
    " \n",
    "    # If no primitive root found\n",
    "    return -1"
   ]
  },
  {
   "cell_type": "code",
   "execution_count": 4,
   "metadata": {},
   "outputs": [],
   "source": [
    "p=8081\n",
    "q=101\n",
    "d=61\n",
    "if((p-1)%q!=0):\n",
    "    print('Not possible')\n",
    "else:\n",
    "    e0= findPrimitive(p)\n",
    "    pq=int((p-1)/q)\n",
    "    e1=(pow(e0,pq))%p\n",
    "    e2=(pow(e1,d))%p\n",
    "        \n",
    "        \n",
    "    \n",
    "        \n",
    "    "
   ]
  },
  {
   "cell_type": "code",
   "execution_count": 5,
   "metadata": {},
   "outputs": [
    {
     "name": "stdout",
     "output_type": "stream",
     "text": [
      "Public key (e1,e2,p,q):  6968 2038 8081 101\n",
      "private key (d):  61\n",
      "3\n"
     ]
    }
   ],
   "source": [
    "print('Public key (e1,e2,p,q): ',e1,e2,p,q)\n",
    "print('private key (d): ',d)\n",
    "print(e0)\n"
   ]
  },
  {
   "cell_type": "markdown",
   "metadata": {},
   "source": [
    "# Signing and Verifying"
   ]
  },
  {
   "cell_type": "code",
   "execution_count": 9,
   "metadata": {},
   "outputs": [],
   "source": [
    "M=5000\n",
    "r=61"
   ]
  },
  {
   "cell_type": "code",
   "execution_count": 10,
   "metadata": {},
   "outputs": [],
   "source": [
    "def multiplicaative_inverse(a,b):\n",
    "    r1=a\n",
    "    r2=b\n",
    "    \n",
    "    t1=0\n",
    "    t2=1\n",
    "    \n",
    "    while(r2>0):\n",
    "        q=int(r1/r2)\n",
    "        r=r1-(q*r2)\n",
    "        r1=r2\n",
    "        r2=r\n",
    "        \n",
    "        t=t1-(q*t2)\n",
    "        t1=t2\n",
    "        t2=t\n",
    "    \n",
    "    if(t1<0):\n",
    "        t1=a+t1;    \n",
    "    return t1"
   ]
  },
  {
   "cell_type": "code",
   "execution_count": 11,
   "metadata": {},
   "outputs": [],
   "source": [
    "#signing\n",
    "S1=(pow(e1,r)%p)%q\n",
    "m=multiplicaative_inverse(q,r)\n",
    "S2=((M+(d*S1))*m)%q"
   ]
  },
  {
   "cell_type": "code",
   "execution_count": 12,
   "metadata": {},
   "outputs": [
    {
     "name": "stdout",
     "output_type": "stream",
     "text": [
      "Accepted\n"
     ]
    }
   ],
   "source": [
    "#Verifying\n",
    "V1 = S1\n",
    "si=multiplicaative_inverse(q,S2)\n",
    "ms=M*si\n",
    "ss=S1*si\n",
    "\n",
    "V2 = ((pow(e1,ms) * pow(e2,ss))%p)%q\n",
    "\n",
    "if V1 == V2:\n",
    "    print('Accepted')\n",
    "else:\n",
    "    print('Not Accepted')"
   ]
  },
  {
   "cell_type": "code",
   "execution_count": null,
   "metadata": {},
   "outputs": [],
   "source": []
  },
  {
   "cell_type": "code",
   "execution_count": null,
   "metadata": {},
   "outputs": [],
   "source": []
  }
 ],
 "metadata": {
  "kernelspec": {
   "display_name": "Python 3",
   "language": "python",
   "name": "python3"
  },
  "language_info": {
   "codemirror_mode": {
    "name": "ipython",
    "version": 3
   },
   "file_extension": ".py",
   "mimetype": "text/x-python",
   "name": "python",
   "nbconvert_exporter": "python",
   "pygments_lexer": "ipython3",
   "version": "3.8.8"
  }
 },
 "nbformat": 4,
 "nbformat_minor": 4
}
