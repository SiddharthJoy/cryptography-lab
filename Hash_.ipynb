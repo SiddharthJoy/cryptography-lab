{
 "cells": [
  {
   "cell_type": "code",
   "execution_count": 12,
   "id": "6f56bdcf",
   "metadata": {},
   "outputs": [
    {
     "name": "stdout",
     "output_type": "stream",
     "text": [
      "Result after digest:  b'\\xfd\\x9dM[z\\x8a\\x8f\\xaek\\x1b\\xc0\\x99\\xb7\\x99\\x11\\x0f~C8`n&\\x10\\xf5\\xd9PjCF\\xe0\\xc3\\xbf\\xbcR_N\\xed\\x1e\\x05\\xaa\\x8coF\\xb8\\xef\\xffRn\\xc4\\x8bP\\t(\\xa1\\xb3A\\xad\\xe5\\xa7\\x85_S92'\n",
      "\n",
      "Hexa Result after digest:  fd9d4d5b7a8a8fae6b1bc099b799110f7e4338606e2610f5d9506a4346e0c3bfbc525f4eed1e05aa8c6f46b8efff526ec48b500928a1b341ade5a7855f533932\n",
      "\n",
      "Block Size(In Bytes):  128\n",
      "\n",
      "Digest Size(In Bytes):  64\n"
     ]
    }
   ],
   "source": [
    "import hashlib\n",
    "m=hashlib.sha512()\n",
    "up_bytes=b'Python'\n",
    "m.update(up_b)\n",
    "print('Result after digest: ',m.digest())\n",
    "\n",
    "print('\\nHexa Result after digest: ',m.hexdigest())\n",
    "\n",
    "print('\\nBlock Size(In Bytes): ',m.block_size)\n",
    "\n",
    "print('\\nDigest Size(In Bytes): ',m.digest_size)"
   ]
  },
  {
   "cell_type": "code",
   "execution_count": 13,
   "id": "e82e9b90",
   "metadata": {},
   "outputs": [
    {
     "name": "stdout",
     "output_type": "stream",
     "text": [
      "Result after digest:  b\"\\xa7\\xf5\\xf3T&\\xb9'A\\x1f\\xc9#\\x1bV8!s\"\n",
      "\n",
      "Hexa Result after digest:  a7f5f35426b927411fc9231b56382173\n",
      "\n",
      "Block Size(In Bytes):  64\n",
      "\n",
      "Digest Size(In Bytes):  16\n"
     ]
    }
   ],
   "source": [
    "import hashlib\n",
    "m=hashlib.md5()\n",
    "up_b=b'Python'\n",
    "m.update(up_b)\n",
    "print('Result after digest: ',m.digest())\n",
    "\n",
    "print('\\nHexa Result after digest: ',m.hexdigest())\n",
    "\n",
    "print('\\nBlock Size(In Bytes): ',m.block_size)\n",
    "\n",
    "print('\\nDigest Size(In Bytes): ',m.digest_size)"
   ]
  },
  {
   "cell_type": "code",
   "execution_count": null,
   "id": "9733fa3a",
   "metadata": {},
   "outputs": [],
   "source": [
    "list(hashlib.algorithms_available)\n",
    "list(hashlib.algorithms_guaranteed)"
   ]
  },
  {
   "cell_type": "code",
   "execution_count": null,
   "id": "c7682210",
   "metadata": {},
   "outputs": [],
   "source": []
  },
  {
   "cell_type": "code",
   "execution_count": null,
   "id": "ac3b43c7",
   "metadata": {},
   "outputs": [],
   "source": []
  }
 ],
 "metadata": {
  "kernelspec": {
   "display_name": "Python 3",
   "language": "python",
   "name": "python3"
  },
  "language_info": {
   "codemirror_mode": {
    "name": "ipython",
    "version": 3
   },
   "file_extension": ".py",
   "mimetype": "text/x-python",
   "name": "python",
   "nbconvert_exporter": "python",
   "pygments_lexer": "ipython3",
   "version": "3.8.8"
  }
 },
 "nbformat": 4,
 "nbformat_minor": 5
}
